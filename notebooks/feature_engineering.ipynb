{
 "cells": [
  {
   "cell_type": "code",
   "execution_count": 3,
   "id": "5f6a8437-3263-42ed-b7a5-d30c883035bd",
   "metadata": {},
   "outputs": [],
   "source": [
    "import pandas as pd\n",
    "import numpy as np\n",
    "import matplotlib.pyplot as plt\n",
    "import seaborn as sns\n",
    "from scipy import stats\n",
    "from sklearn.model_selection import train_test_split\n",
    "from sklearn.preprocessing import StandardScaler\n",
    "from sklearn.linear_model import LogisticRegression\n",
    "from sklearn.ensemble import RandomForestClassifier\n",
    "from sklearn.metrics import classification_report, confusion_matrix, accuracy_score, roc_auc_score\n",
    "from sklearn.feature_selection import SelectKBest, f_classif\n",
    "import warnings\n",
    "\n",
    "warnings.filterwarnings('ignore')"
   ]
  },
  {
   "cell_type": "code",
   "execution_count": 2,
   "id": "cdcb20e0-dd63-409c-a368-9c1e82adf4a0",
   "metadata": {},
   "outputs": [],
   "source": [
    "df = pd.read_csv('../data/asthma_disease_data.csv')"
   ]
  },
  {
   "cell_type": "code",
   "execution_count": null,
   "id": "dec9494c-d638-48b4-b405-21b8d98b697c",
   "metadata": {},
   "outputs": [],
   "source": [
    "# Create age groups\n",
    "df['AgeGroup'] = pd.cut(df['Age'], bins=[0, 18, 35, 50, 65, 100], \n",
    "                        labels=['Child', 'Young Adult', 'Adult', 'Middle Aged', 'Senior'])\n",
    "\n",
    "# Create BMI categories \n",
    "def categorize_bmi(bmi):\n",
    "    if bmi < 18.5:\n",
    "        return 'Underweight'\n",
    "    elif 18.5 <= bmi < 25:\n",
    "        return 'Normal'\n",
    "    elif 25 <= bmi < 30:\n",
    "        return 'Overweight'\n",
    "    else:\n",
    "        return 'Obese'\n",
    "\n",
    "df['BMICategory'] = df['BMI'].apply(categorize_bmi)\n",
    "\n",
    "# Create symptom score (sum of all respiratory symptoms)\n",
    "symptom_cols = ['Wheezing', 'ShortnessOfBreath', 'ChestTightness', 'Coughing', 'NighttimeSymptoms', 'ExerciseInduced']\n",
    "df['SymptomScore'] = df[symptom_cols].sum(axis=1)\n",
    "\n",
    "# Create exposure score\n",
    "exposure_cols = ['PollutionExposure', 'PollenExposure', 'DustExposure']\n",
    "df['ExposureScore'] = df[exposure_cols].sum(axis=1)\n",
    "\n",
    "# Create overall health score\n",
    "df['HealthScore'] = df['DietQuality'] + df['SleepQuality'] + df['PhysicalActivity']\n",
    "\n",
    "# Create lung function ratio (FEV1/FVC)\n",
    "df['FEV1_FVC_Ratio'] = df['LungFunctionFEV1'] / df['LungFunctionFVC']\n",
    "\n",
    "print(\"New features created:\")\n",
    "print(df[['AgeGroup', 'BMICategory', 'SymptomScore', 'ExposureScore', 'HealthScore', 'FEV1_FVC_Ratio']].head())"
   ]
  }
 ],
 "metadata": {
  "kernelspec": {
   "display_name": "Python 3 (ipykernel)",
   "language": "python",
   "name": "python3"
  },
  "language_info": {
   "codemirror_mode": {
    "name": "ipython",
    "version": 3
   },
   "file_extension": ".py",
   "mimetype": "text/x-python",
   "name": "python",
   "nbconvert_exporter": "python",
   "pygments_lexer": "ipython3",
   "version": "3.9.6"
  }
 },
 "nbformat": 4,
 "nbformat_minor": 5
}
