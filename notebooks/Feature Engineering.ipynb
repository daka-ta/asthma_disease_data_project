{
 "cells": [
  {
   "cell_type": "code",
   "execution_count": 23,
   "id": "5f6a8437-3263-42ed-b7a5-d30c883035bd",
   "metadata": {},
   "outputs": [],
   "source": [
    "import pandas as pd\n",
    "import numpy as np\n",
    "import matplotlib.pyplot as plt\n",
    "import seaborn as sns\n",
    "from scipy import stats\n",
    "from sklearn.model_selection import train_test_split\n",
    "from sklearn.preprocessing import StandardScaler\n",
    "from sklearn.linear_model import LogisticRegression\n",
    "from sklearn.ensemble import RandomForestClassifier\n",
    "from sklearn.metrics import classification_report, confusion_matrix, accuracy_score, roc_auc_score\n",
    "from sklearn.feature_selection import SelectKBest, f_classif\n",
    "import warnings\n",
    "\n",
    "warnings.filterwarnings('ignore')"
   ]
  },
  {
   "cell_type": "code",
   "execution_count": 24,
   "id": "cdcb20e0-dd63-409c-a368-9c1e82adf4a0",
   "metadata": {},
   "outputs": [],
   "source": [
    "df = pd.read_csv('../data/asthma_disease_data.csv')"
   ]
  },
  {
   "cell_type": "code",
   "execution_count": 25,
   "id": "dec9494c-d638-48b4-b405-21b8d98b697c",
   "metadata": {},
   "outputs": [
    {
     "name": "stdout",
     "output_type": "stream",
     "text": [
      "New features created:\n",
      "      AgeGroup  BMICategory  SymptomScore  ExposureScore  HealthScore  \\\n",
      "0  Middle Aged  Underweight             2      11.218398    15.084147   \n",
      "1  Young Adult       Normal             4      16.012134    17.392310   \n",
      "2  Middle Aged  Underweight             5       8.354581    22.776251   \n",
      "3        Adult        Obese             4      12.119066    11.484070   \n",
      "4  Middle Aged       Normal             4      12.291287    17.357340   \n",
      "\n",
      "   FEV1_FVC_Ratio  \n",
      "0        0.277068  \n",
      "1        1.290987  \n",
      "2        0.338077  \n",
      "3        1.318186  \n",
      "4        1.131243  \n"
     ]
    }
   ],
   "source": [
    "# Create age groups\n",
    "df['AgeGroup'] = pd.cut(df['Age'], bins=[0, 18, 35, 50, 65, 100], \n",
    "                        labels=['Child', 'Young Adult', 'Adult', 'Middle Aged', 'Senior'])\n",
    "\n",
    "# Create BMI categories \n",
    "def categorize_bmi(bmi):\n",
    "    if bmi < 18.5:\n",
    "        return 'Underweight'\n",
    "    elif 18.5 <= bmi < 25:\n",
    "        return 'Normal'\n",
    "    elif 25 <= bmi < 30:\n",
    "        return 'Overweight'\n",
    "    else:\n",
    "        return 'Obese'\n",
    "\n",
    "df['BMICategory'] = df['BMI'].apply(categorize_bmi)\n",
    "\n",
    "# Create symptom score \n",
    "symptom_cols = ['Wheezing', 'ShortnessOfBreath', 'ChestTightness', 'Coughing', 'NighttimeSymptoms', 'ExerciseInduced']\n",
    "df['SymptomScore'] = df[symptom_cols].sum(axis=1)\n",
    "\n",
    "# Create exposure score\n",
    "exposure_cols = ['PollutionExposure', 'PollenExposure', 'DustExposure']\n",
    "df['ExposureScore'] = df[exposure_cols].sum(axis=1)\n",
    "\n",
    "# Create overall health score\n",
    "df['HealthScore'] = df['DietQuality'] + df['SleepQuality'] + df['PhysicalActivity']\n",
    "\n",
    "# Create lung function ratio (FEV1/FVC)\n",
    "df['FEV1_FVC_Ratio'] = df['LungFunctionFEV1'] / df['LungFunctionFVC']\n",
    "\n",
    "print(\"New features created:\")\n",
    "print(df[['AgeGroup', 'BMICategory', 'SymptomScore', 'ExposureScore', 'HealthScore', 'FEV1_FVC_Ratio']].head())"
   ]
  },
  {
   "cell_type": "code",
   "execution_count": 27,
   "id": "629e4170-03c6-4a64-885b-4dc6b052676c",
   "metadata": {},
   "outputs": [],
   "source": [
    "df.to_csv('../data/asthma_disease_data.csv', index=False)"
   ]
  },
  {
   "cell_type": "code",
   "execution_count": null,
   "id": "51d20bcc-bca3-4ed4-b0cd-34ba8023ea14",
   "metadata": {},
   "outputs": [],
   "source": []
  },
  {
   "cell_type": "code",
   "execution_count": null,
   "id": "59c3ea05-227a-427f-83c1-5e7ab74c44f8",
   "metadata": {},
   "outputs": [],
   "source": []
  }
 ],
 "metadata": {
  "kernelspec": {
   "display_name": "Python 3 (ipykernel)",
   "language": "python",
   "name": "python3"
  },
  "language_info": {
   "codemirror_mode": {
    "name": "ipython",
    "version": 3
   },
   "file_extension": ".py",
   "mimetype": "text/x-python",
   "name": "python",
   "nbconvert_exporter": "python",
   "pygments_lexer": "ipython3",
   "version": "3.9.6"
  }
 },
 "nbformat": 4,
 "nbformat_minor": 5
}
