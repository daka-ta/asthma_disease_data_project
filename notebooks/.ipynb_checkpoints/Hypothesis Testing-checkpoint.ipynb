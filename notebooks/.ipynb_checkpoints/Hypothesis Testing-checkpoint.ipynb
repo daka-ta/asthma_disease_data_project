{
 "cells": [
  {
   "cell_type": "markdown",
   "id": "b96860ee-7b77-4c27-ab96-3cd879033eb0",
   "metadata": {},
   "source": [
    "### Hypothesis testing"
   ]
  },
  {
   "cell_type": "code",
   "execution_count": 13,
   "id": "ec16a4c0-3216-47c4-9baf-ca8a4d5682d3",
   "metadata": {},
   "outputs": [],
   "source": [
    "import pandas as pd\n",
    "import numpy as np\n",
    "import matplotlib.pyplot as plt\n",
    "import seaborn as sns\n",
    "from scipy import stats\n",
    "from sklearn.model_selection import train_test_split\n",
    "from sklearn.preprocessing import StandardScaler\n",
    "from sklearn.linear_model import LogisticRegression\n",
    "from sklearn.ensemble import RandomForestClassifier\n",
    "from sklearn.metrics import classification_report, confusion_matrix, accuracy_score, roc_auc_score\n",
    "from sklearn.feature_selection import SelectKBest, f_classif\n",
    "import warnings\n",
    "\n",
    "warnings.filterwarnings('ignore')"
   ]
  },
  {
   "cell_type": "code",
   "execution_count": 14,
   "id": "66dac385-15b9-41b9-a5db-795b208d1141",
   "metadata": {},
   "outputs": [],
   "source": [
    "df = pd.read_csv('../data/asthma_disease_data.csv')"
   ]
  },
  {
   "cell_type": "code",
   "execution_count": 21,
   "id": "87440946-8913-462e-9cf5-16e7cdff22a1",
   "metadata": {},
   "outputs": [
    {
     "name": "stdout",
     "output_type": "stream",
     "text": [
      "T-tests for Numerical Variables (Asthma vs No Asthma):\n",
      "======================================================================\n",
      "              Feature  T-Statistic   P-Value  Significant\n",
      "9     LungFunctionFVC     1.449126  0.147434        False\n",
      "7        DustExposure    -1.270155  0.204153        False\n",
      "8    LungFunctionFEV1     1.141140  0.253926        False\n",
      "4        SleepQuality     0.881204  0.378296        False\n",
      "0                 Age    -0.738812  0.460094        False\n",
      "6      PollenExposure     0.738216  0.460456        False\n",
      "1                 BMI    -0.612226  0.540446        False\n",
      "11      ExposureScore    -0.427602  0.668979        False\n",
      "10       SymptomScore    -0.411817  0.680511        False\n",
      "12        HealthScore     0.392697  0.694579        False\n",
      "13     FEV1_FVC_Ratio    -0.336486  0.736534        False\n",
      "2    PhysicalActivity     0.247659  0.804420        False\n",
      "5   PollutionExposure    -0.221717  0.824553        False\n",
      "3         DietQuality    -0.153947  0.877664        False\n"
     ]
    }
   ],
   "source": [
    "# T -tests\n",
    "\n",
    "numerical_cols = ['Age', 'BMI', 'PhysicalActivity', 'DietQuality', 'SleepQuality', \n",
    "                  'PollutionExposure', 'PollenExposure', 'DustExposure', \n",
    "                  'LungFunctionFEV1', 'LungFunctionFVC', 'SymptomScore',\n",
    "                  'ExposureScore', 'HealthScore', 'FEV1_FVC_Ratio']\n",
    "\n",
    "print(\"T-tests for Numerical Variables (Asthma vs No Asthma):\")\n",
    "print(\"=\" * 70)\n",
    "\n",
    "results = []\n",
    "for col in numerical_cols:\n",
    "    asthma = df[df['Diagnosis'] == 1][col]\n",
    "    no_asthma = df[df['Diagnosis'] == 0][col]\n",
    "    \n",
    "    t_stat, p_value = stats.ttest_ind(asthma, no_asthma, nan_policy='omit')\n",
    "    \n",
    "    results.append({\n",
    "        'Feature': col,\n",
    "        'T-Statistic': t_stat,\n",
    "        'P-Value': p_value,\n",
    "        'Significant': p_value < 0.05\n",
    "    })\n",
    "\n",
    "results_df = pd.DataFrame(results)\n",
    "print(results_df.sort_values('P-Value'))"
   ]
  },
  {
   "cell_type": "code",
   "execution_count": 22,
   "id": "a9d300af-4b63-449f-9f4f-6f6a50aaec35",
   "metadata": {},
   "outputs": [
    {
     "name": "stdout",
     "output_type": "stream",
     "text": [
      "\n",
      "Chi-square Tests for Categorical Variables:\n",
      "======================================================================\n",
      "                  Feature  Chi2-Statistic   P-Value  Significant\n",
      "7  GastroesophagealReflux        0.974628  0.323529        False\n",
      "6                HayFever        0.689073  0.406480        False\n",
      "1                 Smoking        0.660570  0.416359        False\n",
      "2              PetAllergy        0.265903  0.606093        False\n",
      "9             BMICategory        1.350804  0.717106        False\n",
      "8                AgeGroup        2.023988  0.731347        False\n",
      "5                  Eczema        0.091887  0.761792        False\n",
      "0                  Gender        0.003693  0.951543        False\n",
      "4      HistoryOfAllergies        0.000002  0.998995        False\n",
      "3     FamilyHistoryAsthma        0.000000  1.000000        False\n"
     ]
    }
   ],
   "source": [
    "# Categorical vars; Chi-square test\n",
    "\n",
    "categorical_cols = ['Gender', 'Smoking', 'PetAllergy', 'FamilyHistoryAsthma', \n",
    "                   'HistoryOfAllergies', 'Eczema', 'HayFever', 'GastroesophagealReflux',\n",
    "                   'AgeGroup', 'BMICategory']\n",
    "\n",
    "print(\"\\nChi-square Tests for Categorical Variables:\")\n",
    "print(\"=\" * 70)\n",
    "\n",
    "chi2_results = []\n",
    "for col in categorical_cols:\n",
    "    contingency_table = pd.crosstab(df[col], df['Diagnosis'])\n",
    "    chi2, p_value, dof, expected = stats.chi2_contingency(contingency_table)\n",
    "    \n",
    "    chi2_results.append({\n",
    "        'Feature': col,\n",
    "        'Chi2-Statistic': chi2,\n",
    "        'P-Value': p_value,\n",
    "        'Significant': p_value < 0.05\n",
    "    })\n",
    "\n",
    "chi2_df = pd.DataFrame(chi2_results)\n",
    "print(chi2_df.sort_values('P-Value'))"
   ]
  },
  {
   "cell_type": "code",
   "execution_count": 23,
   "id": "f37a3569-db92-4e54-948a-74eea13c4e46",
   "metadata": {},
   "outputs": [],
   "source": [
    "results_df.to_csv('../data/asthma_disease_data_t_tests.csv', index=False)"
   ]
  },
  {
   "cell_type": "code",
   "execution_count": 24,
   "id": "351aa61e-9217-4aaa-9bd1-15d71c5d1907",
   "metadata": {},
   "outputs": [],
   "source": [
    "chi2_df.to_csv('../data/asthma_disease_data_chi2.csv', index=False)"
   ]
  },
  {
   "cell_type": "code",
   "execution_count": null,
   "id": "4b1ec509-54cd-4ab5-924c-4fd1c1b53397",
   "metadata": {},
   "outputs": [],
   "source": []
  }
 ],
 "metadata": {
  "kernelspec": {
   "display_name": "Python 3 (ipykernel)",
   "language": "python",
   "name": "python3"
  },
  "language_info": {
   "codemirror_mode": {
    "name": "ipython",
    "version": 3
   },
   "file_extension": ".py",
   "mimetype": "text/x-python",
   "name": "python",
   "nbconvert_exporter": "python",
   "pygments_lexer": "ipython3",
   "version": "3.9.6"
  }
 },
 "nbformat": 4,
 "nbformat_minor": 5
}
